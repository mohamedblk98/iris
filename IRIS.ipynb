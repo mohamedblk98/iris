{
  "nbformat": 4,
  "nbformat_minor": 0,
  "metadata": {
    "colab": {
      "provenance": []
    },
    "kernelspec": {
      "name": "python3",
      "display_name": "Python 3"
    },
    "language_info": {
      "name": "python"
    }
  },
  "cells": [
    {
      "cell_type": "code",
      "metadata": {
        "id": "jecyOrAiurU-"
      },
      "source": [
        "#Reading the dataset :\n",
        "#converting .txt to .csv file\n",
        "#naming the columns \n",
        "#importing dataset\n",
        "from sklearn.model_selection import train_test_split\n",
        "from sklearn.neighbors import KNeighborsClassifier\n",
        "from sklearn.metrics import accuracy_score\n",
        "import pandas as pd\n",
        "pd.read_csv('iris.data.csv', delimiter=\";\")"
      ],
      "execution_count": null,
      "outputs": []
    },
    {
      "cell_type": "code",
      "metadata": {
        "id": "lx3EjD5Q64Ys"
      },
      "source": [
        "iris=pd.read_csv('iris.data.csv', delimiter=\";\")\n",
        "#Converting categorical to numerical so we can use knn\n",
        "iris['variety']=iris['variety'].map({'Iris-setosa':0,'Iris-versicolor':1,'Iris-virginica':2})\n",
        "\n",
        "#Choosing the features as x and the target as y\n",
        "x=iris[['sepal.length','sepal.width','petal.length','petal.width']]\n",
        "y=iris['variety']\n",
        "iris\n",
        "x_train,x_test,y_train,y_test=train_test_split(x,y,test_size=0.2,random_state=30) "
      ],
      "execution_count": null,
      "outputs": []
    },
    {
      "cell_type": "code",
      "metadata": {
        "id": "5ntle3fF9SDh"
      },
      "source": [
        "n_neighbors=30\n",
        "scores=[]\n",
        "for k in range(1,30):\n",
        "    knn=KNeighborsClassifier(n_neighbors-k)\n",
        "    knn.fit(x_train,y_train)\n",
        "    y_pred=knn.predict(x_test)\n",
        "    print('Accuracy for k=',k,'is:',round(accuracy_score(y_pred,y_test),2))\n",
        "    scores.append(round(accuracy_score(y_pred,y_test),2))"
      ],
      "execution_count": null,
      "outputs": []
    },
    {
      "cell_type": "code",
      "metadata": {
        "colab": {
          "base_uri": "https://localhost:8080/",
          "height": 297
        },
        "id": "p-HnHx_i9gwZ",
        "outputId": "3ee6c235-a300-47bd-f032-6b692e78140a"
      },
      "source": [
        "import matplotlib.pyplot as plt\n",
        "plt.plot(range(1,30),scores)\n",
        "plt.xlabel('Value K for KNN')\n",
        "plt.ylabel('Testing Accuracy')"
      ],
      "execution_count": null,
      "outputs": [
        {
          "output_type": "execute_result",
          "data": {
            "text/plain": [
              "Text(0, 0.5, 'Testing Accuracy')"
            ]
          },
          "metadata": {},
          "execution_count": 18
        },
        {
          "output_type": "display_data",
          "data": {
            "image/png": "[encoded data removed]",
            "text/plain": [
              "<Figure size 432x288 with 1 Axes>"
            ]
          },
          "metadata": {
            "needs_background": "light"
          }
        }
      ]
    },
    {
      "cell_type": "markdown",
      "metadata": {
        "id": "2b5rWJCr9ve0"
      },
      "source": [
        "We'll choose k = 20"
      ]
    },
    {
      "cell_type": "code",
      "metadata": {
        "id": "Dcy0O4BW93ER"
      },
      "source": [
        "#import the relevant libraries\n",
        "from sklearn.model_selection import train_test_split\n",
        "from sklearn.neighbors import KNeighborsClassifier\n",
        "from sklearn.metrics import accuracy_score\n",
        "\n",
        "x_train,x_test,y_train,y_test=train_test_split(x,y,test_size=0.66,random_state=30) #split our data with test size of 66% \n",
        "\n",
        "knn=KNeighborsClassifier(n_neighbors=20) #build our knn classifier\n",
        "knn.fit(x_train,y_train) #Training KNN classifier\n",
        "y_pred=knn.predict(x_test)  #Testing\n",
        "print('Accuracy=',accuracy_score(y_pred,y_test))"
      ],
      "execution_count": null,
      "outputs": []
    },
    {
      "cell_type": "code",
      "metadata": {
        "id": "_ocL3sD6_Fx7"
      },
      "source": [
        "#distance calculation :\n",
        "import pandas as pd\n",
        "import numpy as np\n",
        "import math\n",
        "import operator\n",
        "\n",
        "def euclidianDistance(data1, data2, length):\n",
        "    distance = 0\n",
        "    for x in range(length):\n",
        "        distance += np.square(data1[x] - data2[x])\n",
        "       \n",
        "    return np.sqrt(distance)\n",
        "def knn(trainingSet, testInstance, k):\n",
        " \n",
        "    distances = {}\n",
        "    sort = {}\n",
        "    length = testInstance.shape[1]\n",
        "    print(length)\n",
        "    \n",
        "    \n",
        "    # Calculating euclidean distance between each row of training data and test data\n",
        "    for x in range(len(trainingSet)):\n",
        "      dist = euclidianDistance(testInstance, trainingSet.iloc[x], length)\n",
        "      distances[x] = dist[0]\n",
        "      # Sorting them on the basis of distance\n",
        "      sorted_d = sorted(distances.items(), key=operator.itemgetter(1)) #by using it we store indices also\n",
        "      sorted_d1 = sorted(distances.items())\n",
        "      print(sorted_d[:5])\n",
        "      print(sorted_d1[:5])\n",
        "   \n",
        "    neighbors = []\n",
        "# Extracting top k neighbors\n",
        "    for x in range(k):\n",
        "        neighbors.append(sorted_d[x][0])\n",
        "        counts = {\"Iris-setosa\":0,\"Iris-versicolor\":0,\"Iris-virginica\":0}\n",
        "# Calculating the most freq class in the neighbors\n",
        "    for x in range(len(neighbors)):\n",
        "        response = trainingSet.iloc[neighbors[x]][-1]\n",
        " \n",
        "        if response in counts:\n",
        "            counts[response] += 1\n",
        "        else:\n",
        "            counts[response] = 1\n",
        "            print(counts)\n",
        "            sortedVotes = sorted(counts.items(), key=operator.itemgetter(1), reverse=True)\n",
        "            print(sortedVotes)\n",
        "    return(sortedVotes[0][0], neighbors)"
      ],
      "execution_count": null,
      "outputs": []
    }
  ]
}